{
 "cells": [
  {
   "cell_type": "code",
   "execution_count": 4,
   "metadata": {},
   "outputs": [],
   "source": [
    "import tensorflow as tf\n",
    "from tensorflow.examples.tutorials.mnist import input_data"
   ]
  },
  {
   "cell_type": "code",
   "execution_count": 12,
   "metadata": {},
   "outputs": [
    {
     "name": "stdout",
     "output_type": "stream",
     "text": [
      "Extracting MNIST_data\\train-images-idx3-ubyte.gz\n",
      "Extracting MNIST_data\\train-labels-idx1-ubyte.gz\n",
      "Extracting MNIST_data\\t10k-images-idx3-ubyte.gz\n",
      "Extracting MNIST_data\\t10k-labels-idx1-ubyte.gz\n",
      "Iter0,Testing Accuracy=0.9492, Learningrate= 0.001\n",
      "Iter1,Testing Accuracy=0.9663, Learningrate= 0.00095\n",
      "Iter2,Testing Accuracy=0.968, Learningrate= 0.0009025\n",
      "Iter3,Testing Accuracy=0.9719, Learningrate= 0.000857375\n",
      "Iter4,Testing Accuracy=0.9734, Learningrate= 0.00081450626\n",
      "Iter5,Testing Accuracy=0.9758, Learningrate= 0.0007737809\n",
      "Iter6,Testing Accuracy=0.9744, Learningrate= 0.0007350919\n",
      "Iter7,Testing Accuracy=0.9773, Learningrate= 0.0006983373\n",
      "Iter8,Testing Accuracy=0.974, Learningrate= 0.0006634204\n",
      "Iter9,Testing Accuracy=0.9756, Learningrate= 0.0006302494\n",
      "Iter10,Testing Accuracy=0.9782, Learningrate= 0.0005987369\n",
      "Iter11,Testing Accuracy=0.9768, Learningrate= 0.0005688001\n",
      "Iter12,Testing Accuracy=0.9761, Learningrate= 0.0005403601\n",
      "Iter13,Testing Accuracy=0.9781, Learningrate= 0.0005133421\n",
      "Iter14,Testing Accuracy=0.9796, Learningrate= 0.000487675\n",
      "Iter15,Testing Accuracy=0.9775, Learningrate= 0.00046329122\n",
      "Iter16,Testing Accuracy=0.9775, Learningrate= 0.00044012666\n",
      "Iter17,Testing Accuracy=0.9782, Learningrate= 0.00041812033\n",
      "Iter18,Testing Accuracy=0.9783, Learningrate= 0.00039721432\n",
      "Iter19,Testing Accuracy=0.9782, Learningrate= 0.0003773536\n",
      "Iter20,Testing Accuracy=0.9798, Learningrate= 0.00035848594\n",
      "Iter21,Testing Accuracy=0.9785, Learningrate= 0.00034056162\n",
      "Iter22,Testing Accuracy=0.9792, Learningrate= 0.00032353355\n",
      "Iter23,Testing Accuracy=0.9793, Learningrate= 0.00030735688\n",
      "Iter24,Testing Accuracy=0.981, Learningrate= 0.000291989\n",
      "Iter25,Testing Accuracy=0.9803, Learningrate= 0.00027738957\n",
      "Iter26,Testing Accuracy=0.9792, Learningrate= 0.0002635201\n",
      "Iter27,Testing Accuracy=0.9808, Learningrate= 0.00025034408\n",
      "Iter28,Testing Accuracy=0.9806, Learningrate= 0.00023782688\n",
      "Iter29,Testing Accuracy=0.9799, Learningrate= 0.00022593554\n",
      "Iter30,Testing Accuracy=0.9805, Learningrate= 0.00021463877\n"
     ]
    }
   ],
   "source": [
    "#载入数据\n",
    "mnist = input_data.read_data_sets('MNIST_data',one_hot=True)\n",
    "#每个批次大小\n",
    "batch_size = 100\n",
    "#计算总的批次数\n",
    "n_batch = mnist.train.num_examples // batch_size\n",
    "\n",
    "#定义两个placeholder\n",
    "x = tf.placeholder(tf.float32,[None,784])\n",
    "y = tf.placeholder(tf.float32,[None,10])\n",
    "keep_prob = tf.placeholder(tf.float32)\n",
    "lr = tf.Variable(0.01, dtype=tf.float32)\n",
    "\n",
    "#创建一个简单的神经网络\n",
    "w1 = tf.Variable(tf.truncated_normal([784,500],stddev=0.1))\n",
    "b1 = tf.Variable(tf.zeros([500])+0.1)\n",
    "L1 = tf.nn.tanh(tf.matmul(x,w1)+b1)\n",
    "L1_drop = tf.nn.dropout(L1,keep_prob)\n",
    "\n",
    "w2 = tf.Variable(tf.truncated_normal([500,300],stddev=0.1))\n",
    "b2 = tf.Variable(tf.zeros([300])+0.1)\n",
    "L2 = tf.nn.tanh(tf.matmul(L1_drop,w2)+b2)\n",
    "L2_drop = tf.nn.dropout(L2,keep_prob)\n",
    "\n",
    "w3 = tf.Variable(tf.truncated_normal([300,100],stddev=0.1))\n",
    "b3 = tf.Variable(tf.zeros([100])+0.1)\n",
    "L3 = tf.nn.tanh(tf.matmul(L2_drop,w3)+b3)\n",
    "L3_drop = tf.nn.dropout(L3,keep_prob)\n",
    "\n",
    "w4 = tf.Variable(tf.truncated_normal([100,10],stddev=0.1))\n",
    "b4 = tf.Variable(tf.zeros([10])+0.1)\n",
    "prediction = tf.nn.softmax(tf.matmul(L3_drop,w4)+b4)\n",
    "\n",
    "#交叉熵代价函数\n",
    "loss = tf.reduce_mean(tf.nn.softmax_cross_entropy_with_logits(labels=y,logits=prediction))\n",
    "#训练\n",
    "train_step = tf.train.AdamOptimizer(lr).minimize(loss)\n",
    "\n",
    "#初始化变量\n",
    "init = tf.global_variables_initializer()\n",
    "\n",
    "#结果存放在布尔型列表中\n",
    "correct_prediction = tf.equal(tf.argmax(y,1),tf.argmax(prediction,1))\n",
    "#求准确率\n",
    "accuracy = tf.reduce_mean(tf.cast(correct_prediction,tf.float32))\n",
    "\n",
    "with tf.Session() as sess:\n",
    "    sess.run(init)\n",
    "    for epoch in range(31):\n",
    "        sess.run(tf.assign(lr, 0.001*(0.95**epoch)))\n",
    "        for batch in range(n_batch):\n",
    "            batch_xs,batch_ys = mnist.train.next_batch(batch_size)\n",
    "            sess.run(train_step,feed_dict={x:batch_xs,y:batch_ys,keep_prob:1.0})\n",
    "            \n",
    "        learning_rate = sess.run(lr)\n",
    "        acc = sess.run(accuracy,feed_dict={x:mnist.test.images,y:mnist.test.labels,keep_prob:1.0})\n",
    "        print ('Iter' + str(epoch) + \",Testing Accuracy=\" + str(acc) + \", Learningrate= \" + str(learning_rate))"
   ]
  },
  {
   "cell_type": "code",
   "execution_count": null,
   "metadata": {},
   "outputs": [],
   "source": []
  }
 ],
 "metadata": {
  "kernelspec": {
   "display_name": "Python 3",
   "language": "python",
   "name": "python3"
  },
  "language_info": {
   "codemirror_mode": {
    "name": "ipython",
    "version": 3
   },
   "file_extension": ".py",
   "mimetype": "text/x-python",
   "name": "python",
   "nbconvert_exporter": "python",
   "pygments_lexer": "ipython3",
   "version": "3.6.4"
  }
 },
 "nbformat": 4,
 "nbformat_minor": 2
}
